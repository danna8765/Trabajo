{
 "cells": [
  {
   "cell_type": "code",
   "execution_count": null,
   "id": "f24b0299",
   "metadata": {},
   "outputs": [
    {
     "name": "stdout",
     "output_type": "stream",
     "text": [
      "Libro: Cien años de soledad, Autor: Gabriel García Márquez\n",
      "Libro: El amor en los tiempos del cólera, Autor: Gabriel García Márquez\n"
     ]
    }
   ],
   "source": [
    "# Ejemplo de Agregación en Python \n",
    "# \n",
    "# Este código demuestra el concepto de agregación en programación orientada a objetos.\n",
    "# En una relación de agregación, una clase contiene una referencia a otra clase,\n",
    "# pero ambas pueden existir independientemente.\n",
    "#\n",
    "# La clase 'Libro' tiene una relación de agregación con la clase 'Autor',\n",
    "# ya que un libro tiene un autor, pero un autor puede existir sin estar asociado\n",
    "# a un libro específico.\n",
    "class Autor:\n",
    "    def __init__(self, nombre):\n",
    "        self.nombre = nombre\n",
    "\n",
    "class Libro:\n",
    "    def __init__(self, titulo, autor):\n",
    "        self.titulo = titulo\n",
    "        self.autor = autor  # Agregación: Libro tiene un Autor, pero Autor puede existir sin Libro\n",
    "\n",
    "# Crear un autor\n",
    "autor1 = Autor(\"Gabriel García Márquez\")\n",
    "\n",
    "# Crear libros asociados al autor\n",
    "libro1 = Libro(\"Cien años de soledad\", autor1)\n",
    "libro2 = Libro(\"El amor en los tiempos del cólera\", autor1)\n",
    "\n",
    "# Mostrar información\n",
    "print(f\"Libro: {libro1.titulo}, Autor: {libro1.autor.nombre}\")\n",
    "print(f\"Libro: {libro2.titulo}, Autor: {libro2.autor.nombre}\")"
   ]
  }
 ],
 "metadata": {
  "kernelspec": {
   "display_name": "Python 3",
   "language": "python",
   "name": "python3"
  },
  "language_info": {
   "codemirror_mode": {
    "name": "ipython",
    "version": 3
   },
   "file_extension": ".py",
   "mimetype": "text/x-python",
   "name": "python",
   "nbconvert_exporter": "python",
   "pygments_lexer": "ipython3",
   "version": "3.13.5"
  }
 },
 "nbformat": 4,
 "nbformat_minor": 5
}
