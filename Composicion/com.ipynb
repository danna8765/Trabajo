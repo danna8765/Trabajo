{
 "cells": [
  {
   "cell_type": "code",
   "execution_count": 1,
   "id": "2b6dce05",
   "metadata": {},
   "outputs": [
    {
     "name": "stdout",
     "output_type": "stream",
     "text": [
      "Motor eléctrico arrancado.\n"
     ]
    }
   ],
   "source": [
    "# Ejemplo de Composición en Python\n",
    "\n",
    "# En la composición, una clase contiene a otra y se encarga de su ciclo de vida.\n",
    "# Si el objeto contenedor se elimina, también se eliminan los objetos contenidos.\n",
    "\n",
    "class Motor:\n",
    "    def __init__(self, tipo):\n",
    "        self.tipo = tipo\n",
    "\n",
    "    def arrancar(self):\n",
    "        print(f\"Motor {self.tipo} arrancado.\")\n",
    "\n",
    "class Coche:\n",
    "    def __init__(self, tipo_motor):\n",
    "        self.motor = Motor(tipo_motor)  # Composición: el motor es parte del coche\n",
    "\n",
    "    def encender(self):\n",
    "        self.motor.arrancar()\n",
    "\n",
    "# Crear un coche (que internamente crea su motor)\n",
    "mi_coche = Coche(\"eléctrico\")\n",
    "mi_coche.encender()\n"
   ]
  }
 ],
 "metadata": {
  "kernelspec": {
   "display_name": "Python 3",
   "language": "python",
   "name": "python3"
  },
  "language_info": {
   "codemirror_mode": {
    "name": "ipython",
    "version": 3
   },
   "file_extension": ".py",
   "mimetype": "text/x-python",
   "name": "python",
   "nbconvert_exporter": "python",
   "pygments_lexer": "ipython3",
   "version": "3.13.5"
  }
 },
 "nbformat": 4,
 "nbformat_minor": 5
}
