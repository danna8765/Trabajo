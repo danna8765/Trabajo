{
 "cells": [
  {
   "cell_type": "code",
   "execution_count": 1,
   "id": "fe622238",
   "metadata": {},
   "outputs": [
    {
     "name": "stdout",
     "output_type": "stream",
     "text": [
      "Guau!\n",
      "Miau!\n"
     ]
    }
   ],
   "source": [
    "# Ejemplo de Polimorfismo en Python\n",
    "#\n",
    "# El polimorfismo permite usar el mismo método en diferentes clases con comportamientos distintos.\n",
    "\n",
    "class Perro:\n",
    "    def hablar(self):\n",
    "        print(\"Guau!\")\n",
    "\n",
    "class Gato:\n",
    "    def hablar(self):\n",
    "        print(\"Miau!\")\n",
    "\n",
    "# Función que usa polimorfismo\n",
    "def hacer_hablar(animal):\n",
    "    animal.hablar()\n",
    "\n",
    "# Crear instancias\n",
    "mascota1 = Perro()\n",
    "mascota2 = Gato()\n",
    "\n",
    "# Usar la misma función con diferentes tipos\n",
    "hacer_hablar(mascota1)\n",
    "hacer_hablar(mascota2)\n"
   ]
  }
 ],
 "metadata": {
  "kernelspec": {
   "display_name": "Python 3",
   "language": "python",
   "name": "python3"
  },
  "language_info": {
   "codemirror_mode": {
    "name": "ipython",
    "version": 3
   },
   "file_extension": ".py",
   "mimetype": "text/x-python",
   "name": "python",
   "nbconvert_exporter": "python",
   "pygments_lexer": "ipython3",
   "version": "3.13.5"
  }
 },
 "nbformat": 4,
 "nbformat_minor": 5
}
