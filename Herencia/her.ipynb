{
 "cells": [
  {
   "cell_type": "code",
   "execution_count": 1,
   "id": "fa92f0f0",
   "metadata": {},
   "outputs": [
    {
     "name": "stdout",
     "output_type": "stream",
     "text": [
      "Hola, soy Luis\n",
      "Luis está estudiando.\n"
     ]
    }
   ],
   "source": [
    "# Ejemplo de Herencia en Python\n",
    "#\n",
    "# La herencia permite que una clase hija herede atributos y métodos de una clase padre.\n",
    "\n",
    "class Persona:\n",
    "    def __init__(self, nombre):\n",
    "        self.nombre = nombre\n",
    "\n",
    "    def saludar(self):\n",
    "        print(f\"Hola, soy {self.nombre}\")\n",
    "\n",
    "class Estudiante(Persona):  # Hereda de Persona\n",
    "    def estudiar(self):\n",
    "        print(f\"{self.nombre} está estudiando.\")\n",
    "\n",
    "# Crear una instancia de Estudiante\n",
    "alumno = Estudiante(\"Luis\")\n",
    "alumno.saludar()\n",
    "alumno.estudiar()\n"
   ]
  }
 ],
 "metadata": {
  "kernelspec": {
   "display_name": "Python 3",
   "language": "python",
   "name": "python3"
  },
  "language_info": {
   "codemirror_mode": {
    "name": "ipython",
    "version": 3
   },
   "file_extension": ".py",
   "mimetype": "text/x-python",
   "name": "python",
   "nbconvert_exporter": "python",
   "pygments_lexer": "ipython3",
   "version": "3.13.5"
  }
 },
 "nbformat": 4,
 "nbformat_minor": 5
}
