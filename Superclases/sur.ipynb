{
 "cells": [
  {
   "cell_type": "code",
   "execution_count": 1,
   "id": "3e203a76",
   "metadata": {},
   "outputs": [
    {
     "name": "stdout",
     "output_type": "stream",
     "text": [
      "Toyota está arrancando.\n"
     ]
    }
   ],
   "source": [
    "# Ejemplo de Superclase en Python\n",
    "#\n",
    "# Una superclase es una clase base de la cual otras clases heredan atributos y métodos.\n",
    "\n",
    "class Vehiculo:  # Superclase\n",
    "    def __init__(self, marca):\n",
    "        self.marca = marca\n",
    "\n",
    "    def arrancar(self):\n",
    "        print(f\"{self.marca} está arrancando.\")\n",
    "\n",
    "class Coche(Vehiculo):  # Subclase que hereda de Vehiculo\n",
    "    pass\n",
    "\n",
    "# Crear una instancia de la subclase\n",
    "mi_coche = Coche(\"Toyota\")\n",
    "mi_coche.arrancar()\n",
    "\n"
   ]
  }
 ],
 "metadata": {
  "kernelspec": {
   "display_name": "Python 3",
   "language": "python",
   "name": "python3"
  },
  "language_info": {
   "codemirror_mode": {
    "name": "ipython",
    "version": 3
   },
   "file_extension": ".py",
   "mimetype": "text/x-python",
   "name": "python",
   "nbconvert_exporter": "python",
   "pygments_lexer": "ipython3",
   "version": "3.13.5"
  }
 },
 "nbformat": 4,
 "nbformat_minor": 5
}
