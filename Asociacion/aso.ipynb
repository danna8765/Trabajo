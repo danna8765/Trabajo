{
 "cells": [
  {
   "cell_type": "code",
   "execution_count": 1,
   "id": "b34de42b",
   "metadata": {},
   "outputs": [
    {
     "name": "stdout",
     "output_type": "stream",
     "text": [
      "Ana Gómez está enseñando Matemáticas\n"
     ]
    }
   ],
   "source": [
    "# Ejemplo de Asociación en Python\n",
    "# \n",
    "# La asociación es una relación entre dos clases que se comunican entre sí,\n",
    "# pero ninguna depende de la existencia de la otra.\n",
    "\n",
    "class Profesor:\n",
    "    def __init__(self, nombre):\n",
    "        self.nombre = nombre\n",
    "\n",
    "    def ensenar(self, curso):\n",
    "        print(f\"{self.nombre} está enseñando {curso.nombre}\")\n",
    "\n",
    "class Curso:\n",
    "    def __init__(self, nombre):\n",
    "        self.nombre = nombre\n",
    "\n",
    "# Crear instancias\n",
    "profesor1 = Profesor(\"Ana Gómez\")\n",
    "curso1 = Curso(\"Matemáticas\")\n",
    "\n",
    "# Asociación: Profesor interactúa con Curso\n",
    "profesor1.ensenar(curso1)\n"
   ]
  }
 ],
 "metadata": {
  "kernelspec": {
   "display_name": "Python 3",
   "language": "python",
   "name": "python3"
  },
  "language_info": {
   "codemirror_mode": {
    "name": "ipython",
    "version": 3
   },
   "file_extension": ".py",
   "mimetype": "text/x-python",
   "name": "python",
   "nbconvert_exporter": "python",
   "pygments_lexer": "ipython3",
   "version": "3.13.5"
  }
 },
 "nbformat": 4,
 "nbformat_minor": 5
}
